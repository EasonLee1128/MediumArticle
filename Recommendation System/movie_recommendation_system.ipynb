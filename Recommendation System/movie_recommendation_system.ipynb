{
 "cells": [
  {
   "cell_type": "markdown",
   "metadata": {},
   "source": [
    "# Movies Recommender System\n",
    "本notebook將對MovieLens資料集進行資料探索，並實作三種不同類型推薦演算法\n",
    "* 簡單熱門推薦法\n",
    "* 基於內容推薦(Content-based Recommendation)\n",
    "* 協同過濾(User-based Collaborative Filtering)"
   ]
  },
  {
   "cell_type": "markdown",
   "metadata": {},
   "source": [
    "## 匯入套件 & 讀取資料"
   ]
  },
  {
   "cell_type": "code",
   "execution_count": 1,
   "metadata": {},
   "outputs": [
    {
     "name": "stdout",
     "output_type": "stream",
     "text": [
      "=====movies=====\n",
      "   movieId                               title                                       genres\n",
      "0        1                    Toy Story (1995)  Adventure|Animation|Children|Comedy|Fantasy\n",
      "1        2                      Jumanji (1995)                   Adventure|Children|Fantasy\n",
      "2        3             Grumpier Old Men (1995)                               Comedy|Romance\n",
      "3        4            Waiting to Exhale (1995)                         Comedy|Drama|Romance\n",
      "4        5  Father of the Bride Part II (1995)                                       Comedy\n",
      "\n",
      "=====rating=====\n",
      "   userId  movieId  rating  timestamp\n",
      "0       1        1     4.0  964982703\n",
      "1       1        3     4.0  964981247\n",
      "2       1        6     4.0  964982224\n",
      "3       1       47     5.0  964983815\n",
      "4       1       50     5.0  964982931\n"
     ]
    }
   ],
   "source": [
    "import numpy as np\n",
    "import pandas as pd\n",
    "from sklearn import preprocessing\n",
    "import seaborn as sns\n",
    "import matplotlib.pyplot as plt\n",
    "from sklearn.metrics.pairwise import cosine_similarity\n",
    "from numpy import dot\n",
    "from numpy.linalg import norm\n",
    "\n",
    "pd.set_option('display.max_columns', 500)\n",
    "pd.set_option('display.width', 1000)\n",
    "\n",
    "movies = pd.read_csv(r\"dataset\\MovieLens\\movies.csv\")\n",
    "rating = pd.read_csv(r\"dataset\\MovieLens\\ratings.csv\")\n",
    "print(\"=====movies=====\")\n",
    "print(movies.head())\n",
    "print(\"\\n=====rating=====\")\n",
    "print(rating.head())"
   ]
  },
  {
   "attachments": {
    "image.png": {
     "image/png": "[encoded data removed]"
    }
   },
   "cell_type": "markdown",
   "metadata": {},
   "source": [
    "## 簡單熱門推薦法\n",
    "\n",
    "簡單熱門推薦法是基於電影受歡迎的程度來決定要推薦哪部電影，這種所謂符合『大眾口味』的電影通常能得到大多數人的青睞，但是卻沒有辦法照顧到非主流的客群，不過對於一個新客戶而言，在無法得知該客戶的喜好之前，仍然是一個簡單且有效的推薦方法。\n",
    "\n",
    "資料集中rating表示該使用者對該電影的評價，分數範圍是[1,5]之間。我們可以簡單的以電影分組進行分數的平均，但這並非十分公平，因為有可能一部電影只有少數人觀看，一部電影被1000人打出平均4.5的分數，顯然會比3人打出平均4.8的分數還要來得有說服力。因此熱門程度的公式必須涵蓋**投票人數**及**平均得分**。我們採取IMDB上對電影分數的計算方式。\n",
    "\n",
    "![image.png](attachment:image.png)\n",
    "\n",
    "* v 是該部電影投票人數\n",
    "* m 是清單上的最小投票數\n",
    "* R 是該部電影平均分數\n",
    "* C 是全部電影的平均分數"
   ]
  },
  {
   "cell_type": "code",
   "execution_count": 2,
   "metadata": {},
   "outputs": [
    {
     "name": "stdout",
     "output_type": "stream",
     "text": [
      "=====vote count=====\n",
      "   movieId  vote_count\n",
      "0        1         215\n",
      "1        2         110\n",
      "2        3          52\n",
      "3        4           7\n",
      "4        5          49\n",
      "\n",
      "=====vote average=====\n",
      "movieId\n",
      "1    3.920930\n",
      "2    3.431818\n",
      "3    3.259615\n",
      "4    2.357143\n",
      "5    3.071429\n",
      "Name: rating, dtype: float64\n",
      "\n",
      "\n",
      "全部電影的平均分數: 3.26\n"
     ]
    }
   ],
   "source": [
    "vote_count = rating.groupby(\"movieId\").count()[\"userId\"].rename(\"vote_count\").reset_index()\n",
    "vote_average = rating.groupby(\"movieId\").mean()[\"rating\"]\n",
    "C = vote_average.mean()\n",
    "\n",
    "print(\"=====vote count=====\")\n",
    "print(vote_count.head())\n",
    "print(\"\\n=====vote average=====\")\n",
    "print(vote_average.head())\n",
    "print(\"\\n\")\n",
    "print(f\"全部電影的平均分數: {C:.2f}\")"
   ]
  },
  {
   "cell_type": "markdown",
   "metadata": {},
   "source": [
    "上面我們得到全部電影的平均分數C是3.26，接著我們要決定合適的清單上的最小投票數m，來過濾掉投票數太低的電影，我們採取第90百分位數。"
   ]
  },
  {
   "cell_type": "code",
   "execution_count": 3,
   "metadata": {},
   "outputs": [
    {
     "name": "stdout",
     "output_type": "stream",
     "text": [
      "m: 27\n",
      "\n",
      "   movieId  vote_count  vote_average\n",
      "0        1         215      3.920930\n",
      "1        2         110      3.431818\n",
      "2        3          52      3.259615\n",
      "3        5          49      3.071429\n",
      "4        6         102      3.946078\n"
     ]
    }
   ],
   "source": [
    "m = vote_count[\"vote_count\"].quantile(0.9)\n",
    "q_movies = vote_count[vote_count[\"vote_count\"]>=m].reset_index(drop=True)\n",
    "q_movies[\"vote_average\"] = vote_average[q_movies.movieId].values\n",
    "\n",
    "print(f\"m: {int(m)}\\n\")\n",
    "print(q_movies.head())"
   ]
  },
  {
   "cell_type": "markdown",
   "metadata": {},
   "source": [
    "得到最小投票數m為27，並且過濾掉投票數低於27的電影，接著我們套入到上述介紹IMDB的公式，來計算分數，並且用bar圖來呈現最熱門的幾部電影。"
   ]
  },
  {
   "cell_type": "code",
   "execution_count": 4,
   "metadata": {},
   "outputs": [
    {
     "data": {
      "text/plain": [
       "Text(0.5, 1.0, 'Popular Movies')"
      ]
     },
     "execution_count": 4,
     "metadata": {},
     "output_type": "execute_result"
    },
    {
     "data": {
      "image/png": "[encoded data removed]",
      "text/plain": [
       "<Figure size 432x288 with 1 Axes>"
      ]
     },
     "metadata": {
      "needs_background": "light"
     },
     "output_type": "display_data"
    }
   ],
   "source": [
    "def weighted_rating(x, m=m, C=C):\n",
    "    v = x[\"vote_count\"]\n",
    "    R = x[\"vote_average\"]\n",
    "    # Calculation based on the IMDB formula\n",
    "    return (v/(v+m) * R) + (m/(m+v) * C)\n",
    "\n",
    "q_movies[\"score\"] = q_movies.apply(weighted_rating,axis=1).values\n",
    "#Sort movies based on score calculated above\n",
    "q_movies = q_movies.sort_values('score', ascending=False)\n",
    "\n",
    "df = pd.merge(q_movies, movies, on='movieId')\n",
    "df.head()\n",
    "\n",
    "plt.barh(df['title'].head(6),df['score'].head(6), align='center',\n",
    "        color='skyblue')\n",
    "plt.gca().invert_yaxis()\n",
    "plt.xlabel(\"Scores\")\n",
    "plt.title(\"Popular Movies\")"
   ]
  },
  {
   "cell_type": "markdown",
   "metadata": {},
   "source": [
    "要注意的是，上面的推薦電影清單單純是按照熱門程度來檢視，完全不考慮其他資訊，我們可以檢視不同類型最熱門的幾部電影，來做更細緻的推薦。"
   ]
  },
  {
   "cell_type": "code",
   "execution_count": 5,
   "metadata": {},
   "outputs": [
    {
     "name": "stdout",
     "output_type": "stream",
     "text": [
      "=====Top Action Movies=====\n",
      "                                                title  vote_count  vote_average     score\n",
      "2                                   Fight Club (1999)         218      4.272936  4.161576\n",
      "3           Star Wars: Episode IV - A New Hope (1977)         251      4.231076  4.137000\n",
      "7                                  Matrix, The (1999)         278      4.192446  4.110118\n",
      "8   Star Wars: Episode V - The Empire Strikes Back...         211      4.215640  4.107505\n",
      "10  Raiders of the Lost Ark (Indiana Jones and the...         200      4.207500  4.095093\n",
      "\n",
      "=====Top Comedy Movies=====\n",
      "                                                title  vote_count  vote_average     score\n",
      "5                                 Pulp Fiction (1994)         307      4.197068  4.121515\n",
      "9                                 Forrest Gump (1994)         329      4.164134  4.095747\n",
      "14                         Princess Bride, The (1987)         142      4.232394  4.077433\n",
      "18  Dr. Strangelove or: How I Learned to Stop Worr...          97      4.268041  4.049081\n",
      "26  Amelie (Fabuleux destin d'Amélie Poulain, Le) ...         120      4.183333  4.014191\n"
     ]
    }
   ],
   "source": [
    "genres = df.genres.str.get_dummies(sep=\"|\")\n",
    "df = pd.merge(df,genres,left_index=True,right_index=True)\n",
    "df.drop(\"genres\",axis=1,inplace=True)\n",
    "\n",
    "# Top Action Movies\n",
    "columns = [\"title\",\"vote_count\",\"vote_average\",\"score\"]\n",
    "print(\"=====Top Action Movies=====\")\n",
    "print(df.loc[df[\"Action\"]==1,columns].head())\n",
    "# Top Comedy Movies\n",
    "print(\"\\n=====Top Comedy Movies=====\")\n",
    "print(df.loc[df[\"Comedy\"]==1,columns].head())"
   ]
  },
  {
   "cell_type": "markdown",
   "metadata": {},
   "source": [
    "## 基於內容推薦(Content-based Recommendation)\n",
    "基於內容推薦(Content-based Recommendations, CB)是將使用者與電影嵌入在同一個向量空間，按照使用者和電影的相似度，為使用者推薦相似度高的影片。詳細的介紹可以參考[以Python打造簡單實用的電影推薦系統(Content-based Recommendation)](https://medium.com/qiubingcheng/%E5%8D%8A%E5%B0%8F%E6%99%82%E6%89%93%E9%80%A0%E7%B0%A1%E5%96%AE%E5%AF%A6%E7%94%A8%E7%9A%84%E9%9B%BB%E5%BD%B1%E6%8E%A8%E8%96%A6%E7%B3%BB%E7%B5%B1-%E9%99%84%E5%AE%8C%E6%95%B4python%E7%A8%8B%E5%BC%8F%E7%A2%BC-b372769939af)。"
   ]
  },
  {
   "cell_type": "markdown",
   "metadata": {},
   "source": [
    "電影的特徵就是genres這個欄位，而我們注意到此時是以|符號將多個類型串接在一起的文字，電腦只能夠處理數值，我們使用獨熱編碼(One Hot Encoder)轉成數值格式。"
   ]
  },
  {
   "cell_type": "code",
   "execution_count": 6,
   "metadata": {},
   "outputs": [
    {
     "name": "stdout",
     "output_type": "stream",
     "text": [
      "0    Adventure|Animation|Children|Comedy|Fantasy\n",
      "1                     Adventure|Children|Fantasy\n",
      "2                                 Comedy|Romance\n",
      "3                           Comedy|Drama|Romance\n",
      "4                                         Comedy\n",
      "Name: genres, dtype: object\n",
      "         (no genres listed)  Action  Adventure  Animation  Children  Comedy  Crime  Documentary  Drama  Fantasy\n",
      "movieId                                                                                                        \n",
      "1                         0       0          1          1         1       1      0            0      0        1\n",
      "2                         0       0          1          0         1       0      0            0      0        1\n",
      "3                         0       0          0          0         0       1      0            0      0        0\n",
      "4                         0       0          0          0         0       1      0            0      1        0\n",
      "5                         0       0          0          0         0       1      0            0      0        0\n"
     ]
    }
   ],
   "source": [
    "# movie vector\n",
    "dummies = movies[\"genres\"].str.get_dummies('|')\n",
    "movie_vec = pd.concat([movies[\"movieId\"], dummies], axis=1)\n",
    "movie_vec.set_index(\"movieId\",inplace=True)\n",
    "\n",
    "print(movies[\"genres\"].head())\n",
    "print(movie_vec.iloc[:5,:10])"
   ]
  },
  {
   "cell_type": "markdown",
   "metadata": {},
   "source": [
    "使用者的特徵就是觀看歷史的電影特徵，先將觀看紀錄跟電影類型merge在一起，同樣要使用獨熱編碼進行型態轉換，因此使用者的資料型態會跟電影一樣，如此就可以計算相似度。"
   ]
  },
  {
   "cell_type": "code",
   "execution_count": 7,
   "metadata": {},
   "outputs": [
    {
     "name": "stdout",
     "output_type": "stream",
     "text": [
      "        (no genres listed)    Action  Adventure  Animation  Children    Comedy     Crime  Documentary     Drama   Fantasy\n",
      "userId                                                                                                                   \n",
      "1                      0.0  0.387931   0.366379   0.125000  0.181034  0.357759  0.193966     0.000000  0.293103  0.202586\n",
      "2                      0.0  0.379310   0.103448   0.000000  0.000000  0.241379  0.344828     0.103448  0.586207  0.000000\n",
      "3                      0.0  0.368421   0.289474   0.105263  0.131579  0.236842  0.052632     0.000000  0.421053  0.078947\n",
      "4                      0.0  0.115741   0.134259   0.027778  0.046296  0.481481  0.125000     0.009259  0.555556  0.087963\n",
      "5                      0.0  0.204545   0.181818   0.136364  0.204545  0.340909  0.272727     0.000000  0.568182  0.159091\n"
     ]
    }
   ],
   "source": [
    "#user vector \n",
    "movie_rating = pd.merge(rating[[\"userId\",\"movieId\"]], movies[[\"movieId\",\"genres\"]], on='movieId')\n",
    "dummies = movie_rating[\"genres\"].str.get_dummies('|')\n",
    "user_vec = pd.concat([movie_rating, dummies], axis=1)\n",
    "user_vec.drop(['movieId', 'genres'],axis=1,inplace=True)\n",
    "user_vec = user_vec.groupby(\"userId\").mean()\n",
    "\n",
    "print(user_vec.iloc[:5,:10])"
   ]
  },
  {
   "cell_type": "markdown",
   "metadata": {},
   "source": [
    "我們建構一個相似度矩陣，讓每一個user都跟每一部電影計算相似度，後續我們直接對特定user對應的那個列(row)進行排序，便知道該user觀看歷史紀錄與哪部電影最相似。"
   ]
  },
  {
   "cell_type": "code",
   "execution_count": 8,
   "metadata": {},
   "outputs": [
    {
     "name": "stdout",
     "output_type": "stream",
     "text": [
      "user_movie_similarity_matrix - #user: 610, #movie: 62423\n",
      "\n",
      "movieId         1         2         3         4         5\n",
      "userId                                                   \n",
      "1        0.634702  0.498514  0.382473  0.507109  0.411876\n",
      "2        0.167015  0.064685  0.211259  0.539039  0.261420\n",
      "3        0.434861  0.333333  0.300815  0.526316  0.273482\n",
      "4        0.408476  0.182058  0.622791  0.885179  0.565426\n",
      "5        0.509525  0.350823  0.465475  0.745499  0.379777\n"
     ]
    }
   ],
   "source": [
    "user_movie_similarity_matrix = cosine_similarity(user_vec.values,movie_vec.values)\n",
    "user_movie_similarity_matrix = pd.DataFrame(user_movie_similarity_matrix, index=user_vec.index,columns=movie_vec.index)\n",
    "\n",
    "num_user,num_mov =  user_movie_similarity_matrix.shape\n",
    "print(f\"user_movie_similarity_matrix - #user: {num_user}, #movie: {num_mov}\\n\")\n",
    "print(user_movie_similarity_matrix.iloc[:5,:5])"
   ]
  },
  {
   "cell_type": "code",
   "execution_count": 9,
   "metadata": {},
   "outputs": [
    {
     "name": "stdout",
     "output_type": "stream",
     "text": [
      "user: 1\n",
      "\n",
      "4850                     Stunt Man, The (1980)\n",
      "9315                        Unstoppable (2004)\n",
      "11829                Hunting Party, The (2007)\n",
      "12879                 The Wrecking Crew (1968)\n",
      "13380                        Graduation (2007)\n",
      "23306    Dragonheart 2: A New Beginning (2000)\n",
      "25008                      The 39 Steps (1959)\n",
      "31401                          Bail Out (1990)\n",
      "33107                    Joseph Andrews (1977)\n",
      "33940                  Once Upon a Time (2008)\n",
      "Name: title, dtype: object\n"
     ]
    }
   ],
   "source": [
    "def get_the_most_similar_movies(user_id, user_movie_matrix,num):\n",
    "    \"\"\"Find the top-n movies most similar to the user\"\"\"\n",
    "    user_vec = user_movie_matrix.loc[user_id].values \n",
    "    sorted_index = np.argsort(user_vec)[::-1][:num]\n",
    "    return list(user_movie_matrix.columns[sorted_index])\n",
    "\n",
    "#Find the top-10 movies most similar to the user1\n",
    "user = 1\n",
    "movied_ids = get_the_most_similar_movies(user, user_movie_similarity_matrix,10)\n",
    "print(f\"user: {user}\\n\")\n",
    "print(movies[movies[\"movieId\"].isin(movied_ids)][\"title\"])"
   ]
  },
  {
   "cell_type": "markdown",
   "metadata": {},
   "source": [
    "## 協同過濾(User-based Collaborative Filtering)\n",
    "協同過濾(User-based Collaborative Filtering)是根據擁有相似經驗的群體的喜好來推薦使用者感興趣的資訊。\n",
    "大抵流程如下：\n",
    "* 找到與使用者擁有相同電影愛好(相似度高)的人\n",
    "* 找到該相似使用者們觀看的其他電影\n",
    "* 將這些相似使用者的平均電影評分最高幾部推薦給該使用者\n",
    "\n",
    "詳細說明請參考[Python實現推薦系統的協同過濾算法(User-based Collaborative Filtering)](https://medium.com/qiubingcheng/%E4%BB%A5python%E5%AF%A6%E7%8F%BE%E6%8E%A8%E8%96%A6%E7%B3%BB%E7%B5%B1%E7%9A%84%E5%8D%94%E5%90%8C%E9%81%8E%E6%BF%BE%E7%AE%97%E6%B3%95-d35cc1a1ec8a)"
   ]
  },
  {
   "cell_type": "markdown",
   "metadata": {},
   "source": [
    "首先 我們先將觀看紀錄rating與電影資料進行合併，再對genres使用獨熱編碼，得到表格如下。"
   ]
  },
  {
   "cell_type": "code",
   "execution_count": 10,
   "metadata": {},
   "outputs": [
    {
     "name": "stdout",
     "output_type": "stream",
     "text": [
      "   userId  movieId  rating  (no genres listed)  Action  Adventure  Animation  Children  Comedy  Crime\n",
      "0       1        1     4.0                   0       0          1          1         1       1      0\n",
      "1       5        1     4.0                   0       0          1          1         1       1      0\n",
      "2       7        1     4.5                   0       0          1          1         1       1      0\n",
      "3      15        1     2.5                   0       0          1          1         1       1      0\n",
      "4      17        1     4.5                   0       0          1          1         1       1      0\n"
     ]
    }
   ],
   "source": [
    "movie_rating = pd.merge(rating[[\"userId\",\"movieId\",\"rating\"]], movies[[\"movieId\",\"genres\"]], on='movieId')\n",
    "dummies = movie_rating[\"genres\"].str.get_dummies('|')\n",
    "df = pd.concat([movie_rating, dummies], axis=1)\n",
    "df.drop(['genres'],axis=1,inplace=True)\n",
    "\n",
    "print(df.iloc[:5,:10])"
   ]
  },
  {
   "cell_type": "markdown",
   "metadata": {},
   "source": [
    "接著，按照流程我們要找到該使用者最相似的使用者，就是計算彼此歷史觀看紀錄中的電影類型的相似度。\n",
    "find_the_most_similar_users函式參數的**num**，是指要找到多少個相似的使用者。\n",
    "我們以user1作為例子來推薦，num設定為15。"
   ]
  },
  {
   "cell_type": "code",
   "execution_count": 11,
   "metadata": {},
   "outputs": [],
   "source": [
    "def find_common_movies(user1,user2):\n",
    "    \"\"\"Find movies that both users have watched\"\"\"\n",
    "    s1 = set((df.loc[df[\"userId\"]==user1,\"movieId\"].values))\n",
    "    s2 = set((df.loc[df[\"userId\"]==user2,\"movieId\"].values))\n",
    "    return s1.intersection(s2)\n",
    "\n",
    "def cal_similarity_for_movie_ratings(user1,user2,movies_id,method=\"cosine\"):\n",
    "    \"\"\"Calculate the similarity for movie ratings between user1 and user2\"\"\"\n",
    "    u1 = df[df[\"userId\"]==user1]\n",
    "    u2 = df[df[\"userId\"]==user2]\n",
    "    vec1 = u1[u1.movieId.isin(movies_id)].sort_values(by=\"movieId\")[\"rating\"].values\n",
    "    vec2 = u2[u2.movieId.isin(movies_id)].sort_values(by=\"movieId\")[\"rating\"].values\n",
    "    if method==\"cosine\":        \n",
    "        return dot(vec1, vec2)/(norm(vec1)*norm(vec2))\n",
    "    return None\n",
    "\n",
    "def find_the_most_similar_users(user, num):\n",
    "    # Calculate the similarity between the user and other users\n",
    "    similarities = []\n",
    "    user_ids = []\n",
    "    for other_user in df.userId.unique():\n",
    "        if other_user == user:\n",
    "            continue\n",
    "        \n",
    "        common_movies = find_common_movies(user,other_user)\n",
    "        if len(common_movies)<10:\n",
    "            sim = 0\n",
    "        else:\n",
    "            sim = cal_similarity_for_movie_ratings(user,other_user,common_movies)\n",
    "        \n",
    "        similarities.append(sim)\n",
    "        user_ids.append(other_user)\n",
    "            \n",
    "    # Find top n similar users\n",
    "    similarities,user_ids = np.array(similarities),np.array(user_ids)\n",
    "    sorted_index = (np.argsort(similarities)[::-1][:num]).tolist()\n",
    "    most_similar_users = user_ids[sorted_index] \n",
    "    return most_similar_users"
   ]
  },
  {
   "cell_type": "code",
   "execution_count": 12,
   "metadata": {},
   "outputs": [
    {
     "name": "stdout",
     "output_type": "stream",
     "text": [
      "user: 1\n",
      "The most similar users: [180 596 476 601 172  72 236 248 178 348 204 251 526 408  62]\n"
     ]
    }
   ],
   "source": [
    "user = 1\n",
    "num = 15\n",
    "similar_users = find_the_most_similar_users(user,num)\n",
    "\n",
    "print(f\"user: {user}\")\n",
    "print(f\"The most similar users: {similar_users}\")"
   ]
  },
  {
   "cell_type": "markdown",
   "metadata": {},
   "source": [
    "找到最相似的user們之後，我們計算這些user觀看過的電影中，平均而言給予哪部電影最高的評分。\n",
    "recommend的回傳值top_ratings，其rating欄位表示這些相似使用者對這部電影的平均分數。"
   ]
  },
  {
   "cell_type": "code",
   "execution_count": 13,
   "metadata": {},
   "outputs": [],
   "source": [
    "def recommend(user,similar_users ,top_n=10):\n",
    "    # Find the movies the user hasn't seen and the similar users have seen.\n",
    "    seen_movies = np.unique(df.loc[df[\"userId\"]==user,\"movieId\"].values)\n",
    "    not_seen_cond = df[\"movieId\"].isin(seen_movies)==False\n",
    "    similar_cond = df[\"userId\"].isin(similar_users)\n",
    "    not_seen_movies_ratings = df[not_seen_cond & similar_cond][[\"movieId\",\"rating\"]]\n",
    "    \n",
    "    # Find average ratings by the most similar users\n",
    "    average_ratings = not_seen_movies_ratings.groupby(\"movieId\").mean()\n",
    "    average_ratings.reset_index(inplace=True)\n",
    "    top_ratings = average_ratings.sort_values(by=\"rating\",ascending=False).iloc[:top_n]\n",
    "    top_ratings.reset_index(inplace=True,drop=True)\n",
    "    return top_ratings"
   ]
  },
  {
   "cell_type": "code",
   "execution_count": 14,
   "metadata": {},
   "outputs": [
    {
     "name": "stdout",
     "output_type": "stream",
     "text": [
      "Top-10 average ratings by the most simiilar users:\n",
      "   movieId  rating                                         title\n",
      "0     2683     5.0  Austin Powers: The Spy Who Shagged Me (1999)\n",
      "1    53322     5.0                       Ocean's Thirteen (2007)\n",
      "2   122906     5.0                          Black Panther (2017)\n",
      "3     1960     5.0                      Last Emperor, The (1987)\n",
      "4      588     5.0                                Aladdin (1992)\n",
      "5     5630     5.0                             Red Dragon (2002)\n",
      "6    44195     5.0                  Thank You for Smoking (2006)\n",
      "7    90430     5.0                                Carnage (2011)\n",
      "8   128360     5.0                      The Hateful Eight (2015)\n",
      "9     5949     5.0                       Intact (Intacto) (2001)\n"
     ]
    }
   ],
   "source": [
    "top_n = 10\n",
    "top_ratings = recommend(user,similar_users, top_n)\n",
    "print(f\"Top-{top_n} average ratings by the most simiilar users:\")\n",
    "print(pd.merge(top_ratings, movies[[\"movieId\",\"title\"]], on='movieId'))"
   ]
  },
  {
   "cell_type": "code",
   "execution_count": null,
   "metadata": {},
   "outputs": [],
   "source": []
  }
 ],
 "metadata": {
  "kernelspec": {
   "display_name": "Python 3",
   "language": "python",
   "name": "python3"
  },
  "language_info": {
   "codemirror_mode": {
    "name": "ipython",
    "version": 3
   },
   "file_extension": ".py",
   "mimetype": "text/x-python",
   "name": "python",
   "nbconvert_exporter": "python",
   "pygments_lexer": "ipython3",
   "version": "3.7.6"
  }
 },
 "nbformat": 4,
 "nbformat_minor": 4
}
